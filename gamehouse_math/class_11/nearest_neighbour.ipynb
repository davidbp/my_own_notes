{
 "cells": [
  {
   "cell_type": "markdown",
   "metadata": {},
   "source": [
    "# Nearest neighbour search"
   ]
  },
  {
   "cell_type": "markdown",
   "metadata": {},
   "source": [
    "## Finding similar vectors to a query vector"
   ]
  },
  {
   "cell_type": "markdown",
   "metadata": {},
   "source": [
    "- Let us consider $X$ to be a list of vectors.\n",
    "\n",
    "- Let $X[i]$ denote the i'th document from our list of vectors.\n",
    "\n",
    "- Given `x^q` a query document we want to find the closest vector.\n",
    "\n",
    "$$\n",
    "x^{nn} = \\arg\\min_{x \\in  X} d(x,x^q)\n",
    "$$\n"
   ]
  },
  {
   "cell_type": "code",
   "execution_count": 1,
   "metadata": {},
   "outputs": [],
   "source": [
    "import numpy as np\n",
    "\n",
    "def distance(x1: np.ndarray, x2: np.ndarray):\n",
    "    return np.linalg.norm((x1-x2)**2)\n",
    "\n",
    "def nearest_neighbor(X: np.ndarray, x_q: np.ndarray,\n",
    "                     get_extra: bool=True):\n",
    "\n",
    "    n_docs, n_feat = X.shape\n",
    "    i_star = 0\n",
    "    min_dist = np.inf\n",
    "    \n",
    "    x_nn = np.zeros(n_feat)\n",
    "    \n",
    "    for i in range(n_docs):\n",
    "        current_dist = distance(x_q, X[i]) \n",
    "        if current_dist < min_dist:\n",
    "            x_nn = X[i]\n",
    "            min_dist = current_dist\n",
    "            i_star = i\n",
    "            \n",
    "    if get_extra:\n",
    "        return x_nn, min_dist, i_star\n",
    "    else:\n",
    "        return x_nn"
   ]
  },
  {
   "cell_type": "code",
   "execution_count": 2,
   "metadata": {},
   "outputs": [],
   "source": [
    "np.random.seed(1234)\n",
    "X   = np.random.rand(10000,100)\n",
    "x_q = np.random.rand(100)"
   ]
  },
  {
   "cell_type": "code",
   "execution_count": 3,
   "metadata": {},
   "outputs": [
    {
     "name": "stdout",
     "output_type": "stream",
     "text": [
      "CPU times: user 7.84 ms, sys: 7.23 ms, total: 15.1 ms\n",
      "Wall time: 17.9 ms\n"
     ]
    }
   ],
   "source": [
    "%time ind = np.argmin(np.linalg.norm((X-x_q)**2,axis=1)**2)"
   ]
  },
  {
   "cell_type": "code",
   "execution_count": 4,
   "metadata": {},
   "outputs": [
    {
     "data": {
      "text/plain": [
       "(6628, 1.676016369531401)"
      ]
     },
     "execution_count": 4,
     "metadata": {},
     "output_type": "execute_result"
    }
   ],
   "source": [
    "min_dist = np.linalg.norm((X-x_q)**2,axis=1)[ind]\n",
    "ind, min_dist"
   ]
  },
  {
   "cell_type": "code",
   "execution_count": 5,
   "metadata": {},
   "outputs": [
    {
     "name": "stdout",
     "output_type": "stream",
     "text": [
      "CPU times: user 167 ms, sys: 23.5 ms, total: 191 ms\n",
      "Wall time: 174 ms\n"
     ]
    }
   ],
   "source": [
    "%time x_nn, min_dist, ind2 = nearest_neighbor(X, x_q, get_extra=True)"
   ]
  },
  {
   "cell_type": "code",
   "execution_count": 6,
   "metadata": {},
   "outputs": [
    {
     "data": {
      "text/plain": [
       "(6628, 1.676016369531401)"
      ]
     },
     "execution_count": 6,
     "metadata": {},
     "output_type": "execute_result"
    }
   ],
   "source": [
    "ind2, min_dist"
   ]
  },
  {
   "cell_type": "markdown",
   "metadata": {},
   "source": [
    "## K Nearest Neighbours\n",
    "\n",
    "\n",
    "We want to find\n",
    "$$\n",
    "X^{Knn} = [ x^{nn_1}, \\dots, x^{nn_K} ]\n",
    "$$\n",
    "such that\n",
    "\n",
    "\n",
    "$$\n",
    " x\\in X  \\,\\,\\,\\, \\Rightarrow \\,\\,\\, \\forall x^{nn} \\in  X^{Knn} \\,\\,\\,\\,\\, d(x,x_q) \\geq \\max d(x,  x^{nn}) \n",
    "$$\n"
   ]
  },
  {
   "cell_type": "code",
   "execution_count": 7,
   "metadata": {},
   "outputs": [
    {
     "data": {
      "text/plain": [
       "array([0, 2, 1])"
      ]
     },
     "execution_count": 7,
     "metadata": {},
     "output_type": "execute_result"
    }
   ],
   "source": [
    "list_items = [2,512,123]\n",
    "sorted_indices = np.argsort(list_items)\n",
    "sorted_indices"
   ]
  },
  {
   "cell_type": "code",
   "execution_count": 8,
   "metadata": {},
   "outputs": [
    {
     "data": {
      "text/plain": [
       "[2, 123, 512]"
      ]
     },
     "execution_count": 8,
     "metadata": {},
     "output_type": "execute_result"
    }
   ],
   "source": [
    "[list_items[ind] for ind in sorted_indices] "
   ]
  },
  {
   "cell_type": "code",
   "execution_count": 9,
   "metadata": {},
   "outputs": [],
   "source": [
    "def sort_list_given_sorted_indices(l, sorted_indices):\n",
    "    return [l[ind] for ind in sorted_indices] "
   ]
  },
  {
   "cell_type": "code",
   "execution_count": 10,
   "metadata": {
    "scrolled": false
   },
   "outputs": [
    {
     "data": {
      "text/plain": [
       "[2, 123, 512]"
      ]
     },
     "execution_count": 10,
     "metadata": {},
     "output_type": "execute_result"
    }
   ],
   "source": [
    "sort_list_given_sorted_indices(list_items, sorted_indices)"
   ]
  },
  {
   "cell_type": "markdown",
   "metadata": {},
   "source": [
    "### Find position where `current_dist` belongs\n"
   ]
  },
  {
   "cell_type": "code",
   "execution_count": 11,
   "metadata": {},
   "outputs": [
    {
     "data": {
      "text/plain": [
       "[1, 3, 4, 6]"
      ]
     },
     "execution_count": 11,
     "metadata": {},
     "output_type": "execute_result"
    }
   ],
   "source": [
    "dist_to_knn = [1,3,4,6]\n",
    "current_dist = 3.5\n",
    "dist_to_knn"
   ]
  },
  {
   "cell_type": "code",
   "execution_count": 12,
   "metadata": {},
   "outputs": [],
   "source": [
    "def find_insertion_pos(dist_to_knn, current_dist):\n",
    "    if current_dist < dist_to_knn[0]:\n",
    "        return 0\n",
    "    \n",
    "    for k in range(len(dist_to_knn)-1):\n",
    "        if  current_dist > dist_to_knn[k]:\n",
    "            if current_dist < dist_to_knn[k+1]:\n",
    "                return k +1"
   ]
  },
  {
   "cell_type": "code",
   "execution_count": 13,
   "metadata": {
    "scrolled": true
   },
   "outputs": [
    {
     "name": "stdout",
     "output_type": "stream",
     "text": [
      "2\n"
     ]
    }
   ],
   "source": [
    "insertion_pos = find_insertion_pos(dist_to_knn, current_dist)\n",
    "print(insertion_pos)"
   ]
  },
  {
   "cell_type": "markdown",
   "metadata": {},
   "source": [
    "##### Update list of distances"
   ]
  },
  {
   "cell_type": "code",
   "execution_count": 14,
   "metadata": {},
   "outputs": [],
   "source": [
    "right_part = dist_to_knn[insertion_pos:]\n",
    "right_part.pop(-1)\n",
    "right_part.insert(0,current_dist)\n",
    "result = dist_to_knn[0:insertion_pos] + right_part"
   ]
  },
  {
   "cell_type": "code",
   "execution_count": 15,
   "metadata": {
    "scrolled": true
   },
   "outputs": [
    {
     "data": {
      "text/plain": [
       "[1, 3, 3.5, 4]"
      ]
     },
     "execution_count": 15,
     "metadata": {},
     "output_type": "execute_result"
    }
   ],
   "source": [
    "result"
   ]
  },
  {
   "cell_type": "markdown",
   "metadata": {},
   "source": [
    "##### Alternative Update list of distances"
   ]
  },
  {
   "cell_type": "code",
   "execution_count": 16,
   "metadata": {},
   "outputs": [
    {
     "data": {
      "text/plain": [
       "[1, 3, 4, 6]"
      ]
     },
     "execution_count": 16,
     "metadata": {},
     "output_type": "execute_result"
    }
   ],
   "source": [
    "dist_to_knn = [1,3,4,6]\n",
    "current_dist = 3.5\n",
    "dist_to_knn"
   ]
  },
  {
   "cell_type": "code",
   "execution_count": 17,
   "metadata": {},
   "outputs": [],
   "source": [
    "insertion_pos = find_insertion_pos(dist_to_knn, current_dist)\n",
    "dist_to_knn[insertion_pos+1:] = dist_to_knn[insertion_pos:-1] \n",
    "dist_to_knn[insertion_pos] = current_dist"
   ]
  },
  {
   "cell_type": "code",
   "execution_count": 18,
   "metadata": {},
   "outputs": [
    {
     "data": {
      "text/plain": [
       "[1, 3, 3.5, 4]"
      ]
     },
     "execution_count": 18,
     "metadata": {},
     "output_type": "execute_result"
    }
   ],
   "source": [
    "dist_to_knn"
   ]
  },
  {
   "cell_type": "markdown",
   "metadata": {},
   "source": [
    "### Algorithm for Knn"
   ]
  },
  {
   "cell_type": "code",
   "execution_count": 19,
   "metadata": {},
   "outputs": [],
   "source": [
    "def inititialize_Knn(X_k: np.ndarray, x_q: np.ndarray, K:int):\n",
    "    dist_to_Knn = []   # list storing distances\n",
    "    X_nn = []          # list of sorted vectors\n",
    "    \n",
    "    for k in range(K):\n",
    "        dist_to_Knn.append(distance(X_k[k],x_q))\n",
    "        X_nn.append(X_k[k])\n",
    "    \n",
    "    sorted_indices = np.argsort(dist_to_Knn)\n",
    "\n",
    "    dist_to_Knn = [dist_to_Knn[ind] for ind in sorted_indices] \n",
    "    X_nn  = [X_k[ind] for ind in sorted_indices] \n",
    "    return dist_to_Knn, X_nn"
   ]
  },
  {
   "cell_type": "code",
   "execution_count": 20,
   "metadata": {},
   "outputs": [],
   "source": [
    "K = 10\n",
    "dist_to_Knn, X_nn = inititialize_Knn(X[0:K], x_q, K)"
   ]
  },
  {
   "cell_type": "code",
   "execution_count": 21,
   "metadata": {},
   "outputs": [],
   "source": [
    "\n",
    "def update_Knn(current_dist, dist_to_Knn, X_nn, K):\n",
    "\n",
    "    insertion_pos                  = find_insertion_pos(dist_to_Knn, current_dist)\n",
    "    X_nn[insertion_pos+1:K]        = X_nn[insertion_pos:K-1] \n",
    "    dist_to_Knn[insertion_pos+1:K] = dist_to_Knn[insertion_pos:K-1] \n",
    "\n",
    "    dist_to_Knn[insertion_pos] = current_dist\n",
    "    X_nn[insertion_pos]        = x_nn\n",
    "    \n",
    "    return  dist_to_Knn, X_nn      \n",
    "\n",
    "\n",
    "def K_nearest_neighbor(X: np.ndarray, x_q: np.ndarray, K:int,\n",
    "                       get_extra: bool=True):\n",
    "\n",
    "    N, n_feat = X.shape\n",
    "    dist_to_Knn, X_nn = inititialize_Knn(X[0:K], x_q, K)\n",
    "    \n",
    "    for i in range(K, N):\n",
    "        current_dist = distance(X[i], x_q)         \n",
    "        if current_dist < dist_to_Knn[-1]:\n",
    "            dist_to_Knn, X_nn = update_Knn(current_dist, dist_to_Knn, X_nn, K)       \n",
    "\n",
    "    if get_extra:\n",
    "        return X_nn, dist_to_Knn\n",
    "    else:\n",
    "        return X_nn\n"
   ]
  },
  {
   "cell_type": "code",
   "execution_count": 22,
   "metadata": {},
   "outputs": [
    {
     "name": "stdout",
     "output_type": "stream",
     "text": [
      "CPU times: user 226 ms, sys: 76.3 ms, total: 303 ms\n",
      "Wall time: 246 ms\n"
     ]
    }
   ],
   "source": [
    "%time X_nn, dist_to_Knn = K_nearest_neighbor(X, x_q, K=10, get_extra=True)"
   ]
  },
  {
   "cell_type": "code",
   "execution_count": 23,
   "metadata": {
    "scrolled": true
   },
   "outputs": [
    {
     "data": {
      "text/plain": [
       "[1.676016369531401,\n",
       " 1.7467966970236957,\n",
       " 1.752387930300928,\n",
       " 1.757646876648462,\n",
       " 1.764759807648174,\n",
       " 1.7772958950113709,\n",
       " 1.7871631631153262,\n",
       " 1.8388565032211817,\n",
       " 1.8462364438362342,\n",
       " 1.859783943496062]"
      ]
     },
     "execution_count": 23,
     "metadata": {},
     "output_type": "execute_result"
    }
   ],
   "source": [
    "dist_to_Knn"
   ]
  },
  {
   "cell_type": "code",
   "execution_count": 24,
   "metadata": {},
   "outputs": [
    {
     "data": {
      "text/plain": [
       "1.676016369531401"
      ]
     },
     "execution_count": 24,
     "metadata": {},
     "output_type": "execute_result"
    }
   ],
   "source": [
    "distance(X_nn[0], x_q)"
   ]
  },
  {
   "cell_type": "code",
   "execution_count": 25,
   "metadata": {},
   "outputs": [
    {
     "name": "stdout",
     "output_type": "stream",
     "text": [
      "CPU times: user 4.82 ms, sys: 1.22 ms, total: 6.04 ms\n",
      "Wall time: 4.24 ms\n"
     ]
    },
    {
     "data": {
      "text/plain": [
       "1.676016369531401"
      ]
     },
     "execution_count": 25,
     "metadata": {},
     "output_type": "execute_result"
    }
   ],
   "source": [
    "%time ind = np.argmin(np.linalg.norm((X - x_q)**2,axis=1))\n",
    "distance(X[ind], x_q)"
   ]
  },
  {
   "cell_type": "markdown",
   "metadata": {},
   "source": [
    "# Cosine similarity"
   ]
  },
  {
   "cell_type": "code",
   "execution_count": 26,
   "metadata": {},
   "outputs": [],
   "source": [
    "def cos_similairty(p,q):\n",
    "    return np.dot(p,q)/(np.linalg.norm(p)*np.linalg.norm(q))"
   ]
  },
  {
   "cell_type": "code",
   "execution_count": 27,
   "metadata": {},
   "outputs": [],
   "source": [
    "def dot_similairty(p,q):\n",
    "    return np.dot(p,q)"
   ]
  },
  {
   "cell_type": "code",
   "execution_count": 28,
   "metadata": {},
   "outputs": [],
   "source": [
    "p = np.array([1,0,0,0,5,4,0,0,1,0,0,0,0])\n",
    "q = np.array([3,1,0,0,2,0,0,1,0,1,0,0,0])"
   ]
  },
  {
   "cell_type": "code",
   "execution_count": 29,
   "metadata": {},
   "outputs": [
    {
     "data": {
      "text/plain": [
       "13"
      ]
     },
     "execution_count": 29,
     "metadata": {},
     "output_type": "execute_result"
    }
   ],
   "source": [
    "dot_similairty(p,q)"
   ]
  },
  {
   "cell_type": "code",
   "execution_count": 30,
   "metadata": {},
   "outputs": [],
   "source": [
    "p2 = p*2\n",
    "q2 = q*2"
   ]
  },
  {
   "cell_type": "code",
   "execution_count": 31,
   "metadata": {},
   "outputs": [
    {
     "data": {
      "text/plain": [
       "array([ 2,  0,  0,  0, 10,  8,  0,  0,  2,  0,  0,  0,  0])"
      ]
     },
     "execution_count": 31,
     "metadata": {},
     "output_type": "execute_result"
    }
   ],
   "source": [
    "p2"
   ]
  },
  {
   "cell_type": "code",
   "execution_count": 32,
   "metadata": {},
   "outputs": [
    {
     "data": {
      "text/plain": [
       "array([6, 2, 0, 0, 4, 0, 0, 2, 0, 2, 0, 0, 0])"
      ]
     },
     "execution_count": 32,
     "metadata": {},
     "output_type": "execute_result"
    }
   ],
   "source": [
    "q2"
   ]
  },
  {
   "cell_type": "code",
   "execution_count": 33,
   "metadata": {},
   "outputs": [
    {
     "data": {
      "text/plain": [
       "52"
      ]
     },
     "execution_count": 33,
     "metadata": {},
     "output_type": "execute_result"
    }
   ],
   "source": [
    "p2 = p*2\n",
    "q2 = q*2\n",
    "dot_similairty(p2,q2)"
   ]
  },
  {
   "cell_type": "markdown",
   "metadata": {},
   "source": [
    "### Normalizing vectors\n",
    "\n",
    "What happens if you normalize?"
   ]
  },
  {
   "cell_type": "code",
   "execution_count": 34,
   "metadata": {},
   "outputs": [],
   "source": [
    "p2 = p/np.linalg.norm(p)\n",
    "q2 = q/np.linalg.norm(q)"
   ]
  },
  {
   "cell_type": "code",
   "execution_count": 35,
   "metadata": {
    "scrolled": false
   },
   "outputs": [
    {
     "data": {
      "text/plain": [
       "13"
      ]
     },
     "execution_count": 35,
     "metadata": {},
     "output_type": "execute_result"
    }
   ],
   "source": [
    "dot_similairty(p,q)"
   ]
  },
  {
   "cell_type": "markdown",
   "metadata": {},
   "source": [
    "# Improving seach: KD-Tree\n",
    "\n",
    "\n",
    "Working with trees in python:\n",
    "\n",
    "https://www.digitalocean.com/community/tutorials/understanding-dictionaries-in-python-3\n",
    "\n",
    "Organize the space into axis aligned boxes.\n",
    "\n",
    "\n",
    "We will take a table "
   ]
  },
  {
   "cell_type": "code",
   "execution_count": 36,
   "metadata": {},
   "outputs": [],
   "source": [
    "from matplotlib import pyplot as plt"
   ]
  },
  {
   "cell_type": "code",
   "execution_count": 37,
   "metadata": {},
   "outputs": [],
   "source": [
    "def dist(x,y):\n",
    "    return np.sqrt(np.linalg.norm((x-y)**2))\n",
    "\n",
    "def closest_point(all_points, query_point, dist):\n",
    "    closest_point_    = None\n",
    "    closest_distance_ = np.inf\n",
    "    \n",
    "    for current_point in all_points:\n",
    "        current_distance = dist(query_point, current_point)\n",
    "        \n",
    "        if  current_distance < closest_distance_:\n",
    "            closest_distance_ = current_distance\n",
    "            closest_point_    = current_point\n",
    "            \n",
    "    return closest_point_, closest_distance_"
   ]
  },
  {
   "cell_type": "code",
   "execution_count": 150,
   "metadata": {},
   "outputs": [],
   "source": [
    "#X = np.array([[1,1],[0,3],[4,3],[0,0],[1,5],[6,1],[-2,1],[4,4],[2,1],[-1,0]])\n",
    "X = np.array([[1,1],[0,3],[4,3],[-0.5,0],[0.5,5],[6,1],[-2,1],[3,4],[2,1],[-1,0]])\n",
    "\n",
    "x_components = [x[0] for x in X]\n",
    "y_components = [x[1] for x in X]\n",
    "query = np.array([1,3])"
   ]
  },
  {
   "cell_type": "code",
   "execution_count": 151,
   "metadata": {},
   "outputs": [],
   "source": [
    "%matplotlib inline"
   ]
  },
  {
   "cell_type": "code",
   "execution_count": 152,
   "metadata": {},
   "outputs": [
    {
     "name": "stdout",
     "output_type": "stream",
     "text": [
      "Query: [1 3]\n",
      "Closest to query: [0. 3.]\n"
     ]
    },
    {
     "data": {
      "text/plain": [
       "<matplotlib.collections.PathCollection at 0x131b54d90>"
      ]
     },
     "execution_count": 152,
     "metadata": {},
     "output_type": "execute_result"
    },
    {
     "data": {
      "image/png": "[encoded data removed]",
      "text/plain": [
       "<Figure size 432x288 with 1 Axes>"
      ]
     },
     "metadata": {
      "needs_background": "light"
     },
     "output_type": "display_data"
    }
   ],
   "source": [
    "closest_to_query, _ = closest_point(X, query, dist)\n",
    "print(\"Query: {}\\nClosest to query: {}\".format(query,closest_to_query))\n",
    "plt.scatter(x_components, y_components, color=\"black\")\n",
    "plt.scatter(query[0], query[1], color=\"red\")\n",
    "plt.scatter(closest_to_query[0], closest_to_query[1], color=\"blue\", linewidths=1, marker=\"o\")"
   ]
  },
  {
   "cell_type": "code",
   "execution_count": 153,
   "metadata": {},
   "outputs": [],
   "source": [
    "\n",
    "def closest_point_(all_points, new_point):\n",
    "    best_point = None\n",
    "    best_distance  = None\n",
    "    \n",
    "    for current_point in all_points:\n",
    "        current_distance = distance(new_point, current_point)\n",
    "        \n",
    "        if best_distance is None or current_distance<best_distance:\n",
    "            best_distance = current_distance\n",
    "            best_point = current_point\n",
    "            \n",
    "    return best_point"
   ]
  },
  {
   "cell_type": "code",
   "execution_count": 154,
   "metadata": {},
   "outputs": [
    {
     "data": {
      "text/plain": [
       "array([0., 3.])"
      ]
     },
     "execution_count": 154,
     "metadata": {},
     "output_type": "execute_result"
    }
   ],
   "source": [
    "closest_point_(X, query)"
   ]
  },
  {
   "cell_type": "markdown",
   "metadata": {},
   "source": [
    "- sort all the points by an axis (each iteration change the axis)\n",
    "- find the median, split the points\n",
    "\n",
    "\n",
    "To change the axis use a modulus operation\n"
   ]
  },
  {
   "cell_type": "code",
   "execution_count": 155,
   "metadata": {},
   "outputs": [
    {
     "data": {
      "text/plain": [
       "(0, 1, 2, 0)"
      ]
     },
     "execution_count": 155,
     "metadata": {},
     "output_type": "execute_result"
    }
   ],
   "source": [
    "n_axis = 3\n",
    "0%3,1%3,2%3,3%3"
   ]
  },
  {
   "cell_type": "code",
   "execution_count": 156,
   "metadata": {},
   "outputs": [],
   "source": [
    "k = 2\n",
    "\n",
    "def build_kdtree(points, depth=0):\n",
    "    n = len(points)\n",
    "    \n",
    "    if n<=0:\n",
    "        return None\n",
    "    \n",
    "    axis = depth%k\n",
    "    sorted_points = sorted(points, key= lambda point:point[axis])\n",
    "\n",
    "    midpoint = int(n/2)\n",
    "    \n",
    "    return {\n",
    "             \"point\": sorted_points[midpoint],\n",
    "             \"left\":build_kdtree(sorted_points[:midpoint], depth+1),\n",
    "             \"right\":build_kdtree(sorted_points[(midpoint+1):], depth+1)\n",
    "           }\n",
    "\n"
   ]
  },
  {
   "cell_type": "code",
   "execution_count": 157,
   "metadata": {},
   "outputs": [],
   "source": [
    "points = [list(x) for x in X]\n",
    "points = [x for x in X]"
   ]
  },
  {
   "cell_type": "code",
   "execution_count": 158,
   "metadata": {},
   "outputs": [
    {
     "data": {
      "text/plain": [
       "[array([1., 1.]),\n",
       " array([0., 3.]),\n",
       " array([4., 3.]),\n",
       " array([-0.5,  0. ]),\n",
       " array([0.5, 5. ]),\n",
       " array([6., 1.]),\n",
       " array([-2.,  1.]),\n",
       " array([3., 4.]),\n",
       " array([2., 1.]),\n",
       " array([-1.,  0.])]"
      ]
     },
     "execution_count": 158,
     "metadata": {},
     "output_type": "execute_result"
    }
   ],
   "source": [
    "points"
   ]
  },
  {
   "cell_type": "code",
   "execution_count": 159,
   "metadata": {},
   "outputs": [
    {
     "name": "stdout",
     "output_type": "stream",
     "text": [
      "Query: [1 3]\n",
      "Closest to query: [0. 3.]\n"
     ]
    },
    {
     "data": {
      "text/plain": [
       "<matplotlib.collections.PathCollection at 0x131a8ced0>"
      ]
     },
     "execution_count": 159,
     "metadata": {},
     "output_type": "execute_result"
    },
    {
     "data": {
      "image/png": "[encoded data removed]",
      "text/plain": [
       "<Figure size 432x288 with 1 Axes>"
      ]
     },
     "metadata": {
      "needs_background": "light"
     },
     "output_type": "display_data"
    }
   ],
   "source": [
    "closest_to_query, _ = closest_point(X, query, dist)\n",
    "print(\"Query: {}\\nClosest to query: {}\".format(query,closest_to_query))\n",
    "plt.scatter(x_components, y_components, color=\"black\")\n"
   ]
  },
  {
   "cell_type": "code",
   "execution_count": 160,
   "metadata": {},
   "outputs": [
    {
     "data": {
      "text/plain": [
       "{'point': array([1., 1.]),\n",
       " 'left': {'point': array([-2.,  1.]),\n",
       "  'left': {'point': array([-0.5,  0. ]),\n",
       "   'left': {'point': array([-1.,  0.]), 'left': None, 'right': None},\n",
       "   'right': None},\n",
       "  'right': {'point': array([0.5, 5. ]),\n",
       "   'left': {'point': array([0., 3.]), 'left': None, 'right': None},\n",
       "   'right': None}},\n",
       " 'right': {'point': array([4., 3.]),\n",
       "  'left': {'point': array([6., 1.]),\n",
       "   'left': {'point': array([2., 1.]), 'left': None, 'right': None},\n",
       "   'right': None},\n",
       "  'right': {'point': array([3., 4.]), 'left': None, 'right': None}}}"
      ]
     },
     "execution_count": 160,
     "metadata": {},
     "output_type": "execute_result"
    }
   ],
   "source": [
    "kd_tree = build_kdtree(points)\n",
    "kd_tree"
   ]
  },
  {
   "cell_type": "markdown",
   "metadata": {},
   "source": [
    "### Plotting a binary tree\n",
    "\n",
    "\n",
    "The following post on stackoverflow provides an easy way to convert a binary tree stored in a dictionary graphically:\n",
    "\n",
    "- https://stackoverflow.com/questions/13688410/dictionary-object-to-decision-tree-in-pydot\n",
    "\n",
    "- You need to install `brew install graphviz`"
   ]
  },
  {
   "cell_type": "code",
   "execution_count": 132,
   "metadata": {},
   "outputs": [],
   "source": [
    "#Using a recursive function\n",
    "\n",
    "#You might want to consider using a recursive function (like the visit in my code below, so that you are able to process a general nested dictionary. In this function, you want to pass a parent parameter to keep track of who is your incoming node. Also note you use isinstance to check if the dictionary value of a key is a dictionary of its own, in that case you need to call your visit recursively.\n",
    "\n",
    "import pydot\n",
    "\n",
    "menu = {'dinner':\n",
    "            {'chicken':'good',\n",
    "             'beef':'average',\n",
    "             'vegetarian':{\n",
    "                   'tofu':'good',\n",
    "                   'salad':{\n",
    "                            'caeser':'bad',\n",
    "                            'italian':'average'}\n",
    "                   },\n",
    "             'pork':'bad'}\n",
    "        }\n",
    "\n",
    "def draw(parent_name, child_name):\n",
    "    edge = pydot.Edge(parent_name, child_name)\n",
    "    graph.add_edge(edge)\n",
    "\n",
    "def visit(node, parent=None):\n",
    "    for k,v in node.items():\n",
    "        if isinstance(v, dict):\n",
    "            # We start with the root node whose parent is None\n",
    "            # we don't want to graph the None node\n",
    "            if parent:\n",
    "                draw(parent, k)\n",
    "            visit(v, k)\n",
    "        else:\n",
    "            draw(parent, k)\n",
    "            # drawing the label using a distinct name\n",
    "            draw(k, k+'_'+v)\n",
    "\n"
   ]
  },
  {
   "cell_type": "code",
   "execution_count": 136,
   "metadata": {},
   "outputs": [],
   "source": [
    "graph = pydot.Dot(graph_type='graph')\n",
    "visit(menu)\n",
    "graph.write_png('example1_graph.png')"
   ]
  },
  {
   "cell_type": "markdown",
   "metadata": {},
   "source": [
    "![title](example1_graph.png)"
   ]
  },
  {
   "cell_type": "markdown",
   "metadata": {},
   "source": [
    "## Plotting our Kd-tree"
   ]
  },
  {
   "cell_type": "code",
   "execution_count": 247,
   "metadata": {},
   "outputs": [
    {
     "data": {
      "text/plain": [
       "{'point': array([1., 1.]),\n",
       " 'left': {'point': array([-2.,  1.]),\n",
       "  'left': {'point': array([-0.5,  0. ]),\n",
       "   'left': {'point': array([-1.,  0.]), 'left': None, 'right': None},\n",
       "   'right': None},\n",
       "  'right': {'point': array([0.5, 5. ]),\n",
       "   'left': {'point': array([0., 3.]), 'left': None, 'right': None},\n",
       "   'right': None}},\n",
       " 'right': {'point': array([4., 3.]),\n",
       "  'left': {'point': array([6., 1.]),\n",
       "   'left': {'point': array([2., 1.]), 'left': None, 'right': None},\n",
       "   'right': None},\n",
       "  'right': {'point': array([3., 4.]), 'left': None, 'right': None}}}"
      ]
     },
     "execution_count": 247,
     "metadata": {},
     "output_type": "execute_result"
    }
   ],
   "source": [
    "kd_tree = build_kdtree(points)\n",
    "kd_tree"
   ]
  },
  {
   "cell_type": "code",
   "execution_count": 248,
   "metadata": {},
   "outputs": [
    {
     "name": "stdout",
     "output_type": "stream",
     "text": [
      "[1. 1.]\n",
      "[-2.  1.]\n",
      "[-0.5  0. ]\n",
      "[-1.  0.]\n",
      "[0.5 5. ]\n",
      "[0. 3.]\n",
      "[4. 3.]\n",
      "[6. 1.]\n",
      "[2. 1.]\n",
      "[3. 4.]\n"
     ]
    }
   ],
   "source": [
    "def change_key(dictionary):\n",
    "    for k, v in dictionary.items():\n",
    "        if isinstance(v, dict):\n",
    "            change_key(v)\n",
    "            #import pdb;pdb.set_trace()\n",
    "        if isinstance(dictionary[k], np.ndarray):\n",
    "            print(dictionary[k])\n",
    "            dictionary[k] = str(list(dictionary[k]))\n",
    "\n",
    "change_key(kd_tree)"
   ]
  },
  {
   "cell_type": "code",
   "execution_count": 250,
   "metadata": {},
   "outputs": [
    {
     "data": {
      "text/plain": [
       "{'point': [1.0, 1.0],\n",
       " 'left': {'point': [-2.0, 1.0],\n",
       "  'left': {'point': [-0.5, 0.0],\n",
       "   'left': {'point': [-1.0, 0.0], 'left': None, 'right': None},\n",
       "   'right': None},\n",
       "  'right': {'point': [0.5, 5.0],\n",
       "   'left': {'point': [0.0, 3.0], 'left': None, 'right': None},\n",
       "   'right': None}},\n",
       " 'right': {'point': [4.0, 3.0],\n",
       "  'left': {'point': [6.0, 1.0],\n",
       "   'left': {'point': [2.0, 1.0], 'left': None, 'right': None},\n",
       "   'right': None},\n",
       "  'right': {'point': [3.0, 4.0], 'left': None, 'right': None}}}"
      ]
     },
     "execution_count": 250,
     "metadata": {},
     "output_type": "execute_result"
    }
   ],
   "source": [
    "kd_tree"
   ]
  },
  {
   "cell_type": "code",
   "execution_count": 251,
   "metadata": {},
   "outputs": [
    {
     "ename": "TypeError",
     "evalue": "can only concatenate str (not \"list\") to str",
     "output_type": "error",
     "traceback": [
      "\u001b[0;31m---------------------------------------------------------------------------\u001b[0m",
      "\u001b[0;31mTypeError\u001b[0m                                 Traceback (most recent call last)",
      "\u001b[0;32m<ipython-input-251-505a936c9f6b>\u001b[0m in \u001b[0;36m<module>\u001b[0;34m\u001b[0m\n\u001b[1;32m      1\u001b[0m \u001b[0mgraph\u001b[0m \u001b[0;34m=\u001b[0m \u001b[0mpydot\u001b[0m\u001b[0;34m.\u001b[0m\u001b[0mDot\u001b[0m\u001b[0;34m(\u001b[0m\u001b[0mgraph_type\u001b[0m\u001b[0;34m=\u001b[0m\u001b[0;34m'graph'\u001b[0m\u001b[0;34m)\u001b[0m\u001b[0;34m\u001b[0m\u001b[0;34m\u001b[0m\u001b[0m\n\u001b[0;32m----> 2\u001b[0;31m \u001b[0mvisit\u001b[0m\u001b[0;34m(\u001b[0m\u001b[0mkd_tree\u001b[0m\u001b[0;34m)\u001b[0m\u001b[0;34m\u001b[0m\u001b[0;34m\u001b[0m\u001b[0m\n\u001b[0m\u001b[1;32m      3\u001b[0m \u001b[0mgraph\u001b[0m\u001b[0;34m.\u001b[0m\u001b[0mwrite_png\u001b[0m\u001b[0;34m(\u001b[0m\u001b[0;34m'kd_tree.png'\u001b[0m\u001b[0;34m)\u001b[0m\u001b[0;34m\u001b[0m\u001b[0;34m\u001b[0m\u001b[0m\n",
      "\u001b[0;32m<ipython-input-132-b7e7bbb01026>\u001b[0m in \u001b[0;36mvisit\u001b[0;34m(node, parent)\u001b[0m\n\u001b[1;32m     32\u001b[0m             \u001b[0mdraw\u001b[0m\u001b[0;34m(\u001b[0m\u001b[0mparent\u001b[0m\u001b[0;34m,\u001b[0m \u001b[0mk\u001b[0m\u001b[0;34m)\u001b[0m\u001b[0;34m\u001b[0m\u001b[0;34m\u001b[0m\u001b[0m\n\u001b[1;32m     33\u001b[0m             \u001b[0;31m# drawing the label using a distinct name\u001b[0m\u001b[0;34m\u001b[0m\u001b[0;34m\u001b[0m\u001b[0;34m\u001b[0m\u001b[0m\n\u001b[0;32m---> 34\u001b[0;31m             \u001b[0mdraw\u001b[0m\u001b[0;34m(\u001b[0m\u001b[0mk\u001b[0m\u001b[0;34m,\u001b[0m \u001b[0mk\u001b[0m\u001b[0;34m+\u001b[0m\u001b[0;34m'_'\u001b[0m\u001b[0;34m+\u001b[0m\u001b[0mv\u001b[0m\u001b[0;34m)\u001b[0m\u001b[0;34m\u001b[0m\u001b[0;34m\u001b[0m\u001b[0m\n\u001b[0m\u001b[1;32m     35\u001b[0m \u001b[0;34m\u001b[0m\u001b[0m\n",
      "\u001b[0;31mTypeError\u001b[0m: can only concatenate str (not \"list\") to str"
     ]
    }
   ],
   "source": [
    "graph = pydot.Dot(graph_type='graph')\n",
    "visit(kd_tree)\n",
    "graph.write_png('kd_tree.png')"
   ]
  },
  {
   "cell_type": "markdown",
   "metadata": {},
   "source": [
    "![title](example1_graph.png)"
   ]
  },
  {
   "cell_type": "code",
   "execution_count": null,
   "metadata": {},
   "outputs": [],
   "source": []
  },
  {
   "cell_type": "code",
   "execution_count": null,
   "metadata": {},
   "outputs": [],
   "source": []
  },
  {
   "cell_type": "code",
   "execution_count": null,
   "metadata": {},
   "outputs": [],
   "source": []
  },
  {
   "cell_type": "markdown",
   "metadata": {},
   "source": [
    "## Inspecting first split point\n",
    "\n",
    "Let us see if the splitpoint matches our intuition"
   ]
  },
  {
   "cell_type": "code",
   "execution_count": 163,
   "metadata": {
    "scrolled": true
   },
   "outputs": [
    {
     "name": "stdout",
     "output_type": "stream",
     "text": [
      "5\n"
     ]
    }
   ],
   "source": [
    "\n",
    "axis=0\n",
    "sorted_points = sorted(points, key= lambda point:point[axis])\n",
    "midpoint = int(len(X)//2)\n",
    "print(midpoint)\n",
    "x_node = sorted_points[midpoint] # the number midpoint+1 element (python counts from 0)"
   ]
  },
  {
   "cell_type": "markdown",
   "metadata": {},
   "source": [
    "Let us inspect the rest of the tree.\n",
    "\n",
    "So far we have checked that the middle point is [1,1]"
   ]
  },
  {
   "cell_type": "code",
   "execution_count": 164,
   "metadata": {},
   "outputs": [
    {
     "data": {
      "text/plain": [
       "array([1., 1.])"
      ]
     },
     "execution_count": 164,
     "metadata": {},
     "output_type": "execute_result"
    }
   ],
   "source": [
    "kd_tree[\"point\"]"
   ]
  },
  {
   "cell_type": "markdown",
   "metadata": {},
   "source": [
    "what is on the left hand side?"
   ]
  },
  {
   "cell_type": "code",
   "execution_count": 165,
   "metadata": {},
   "outputs": [],
   "source": [
    "left_of_first_node = [np.array([-1.,  0.]),\n",
    "                      np.array([-0.5,  0. ]),\n",
    "                      np.array([-2.,  1.]),\n",
    "                      np.array([ 0.,  3.]),\n",
    "                      np.array([ 0.5,  5. ])]"
   ]
  },
  {
   "cell_type": "markdown",
   "metadata": {},
   "source": [
    "# Plotting points uder the left hand side of the first node"
   ]
  },
  {
   "cell_type": "code",
   "execution_count": 59,
   "metadata": {},
   "outputs": [],
   "source": [
    "def get_left_points(kd_tree, left_points=None):\n",
    "    if left_points is None:\n",
    "        left_points = []\n",
    "    \n",
    "    if kd_tree is None:\n",
    "        return left_points\n",
    "    \n",
    "    if \"left\" in kd_tree:\n",
    "        left_points.append(kd_tree[\"point\"])\n",
    "        get_left_points(kd_tree[\"left\"], left_points)\n",
    "    \n",
    "    return left_points"
   ]
  },
  {
   "cell_type": "code",
   "execution_count": 60,
   "metadata": {},
   "outputs": [
    {
     "data": {
      "text/plain": [
       "[array([1., 1.]), array([-2.,  1.]), array([-0.5,  0. ]), array([-1.,  0.])]"
      ]
     },
     "execution_count": 60,
     "metadata": {},
     "output_type": "execute_result"
    }
   ],
   "source": [
    "aux = get_left_points(kd_tree)\n",
    "aux"
   ]
  },
  {
   "cell_type": "code",
   "execution_count": 61,
   "metadata": {},
   "outputs": [
    {
     "data": {
      "text/plain": [
       "<matplotlib.collections.PathCollection at 0x1228303d0>"
      ]
     },
     "execution_count": 61,
     "metadata": {},
     "output_type": "execute_result"
    },
    {
     "data": {
      "image/png": "[encoded data removed]",
      "text/plain": [
       "<Figure size 432x288 with 1 Axes>"
      ]
     },
     "metadata": {
      "needs_background": "light"
     },
     "output_type": "display_data"
    }
   ],
   "source": [
    "closest_to_query, _ = closest_point(X, query, dist)\n",
    "\n",
    "#X = np.array([[1,1],[0,3],[4,3],[0,0],[1,5],[6,1],[-2,1],[4,4],[2,1],[-1,0]])\n",
    "X = np.array([[1,1],[0,3],[4,3],[-0.5,0],[0.5,5],[6,1],[-2,1],[3,4],[2,1],[-1,0]])\n",
    "\n",
    "x_components = [x[0] for x in X]\n",
    "y_components = [x[1] for x in X]\n",
    "plt.scatter(x_components, y_components, color=\"black\")\n",
    "\n",
    "x_components = [x[0] for x in left_of_first_node ]\n",
    "y_components = [x[1] for x in left_of_first_node ]\n",
    "\n",
    "plt.scatter(x_components, y_components, color=\"red\")"
   ]
  },
  {
   "cell_type": "code",
   "execution_count": 62,
   "metadata": {},
   "outputs": [
    {
     "name": "stdout",
     "output_type": "stream",
     "text": [
      "{'left': {'left': {'left': {'left': None,\n",
      "                            'point': array([-1.,  0.]),\n",
      "                            'right': None},\n",
      "                   'point': array([-0.5,  0. ]),\n",
      "                   'right': None},\n",
      "          'point': array([-2.,  1.]),\n",
      "          'right': {'left': {'left': None,\n",
      "                             'point': array([0., 3.]),\n",
      "                             'right': None},\n",
      "                    'point': array([0.5, 5. ]),\n",
      "                    'right': None}},\n",
      " 'point': array([1., 1.]),\n",
      " 'right': {'left': {'left': {'left': None,\n",
      "                             'point': array([2., 1.]),\n",
      "                             'right': None},\n",
      "                    'point': array([6., 1.]),\n",
      "                    'right': None},\n",
      "           'point': array([4., 3.]),\n",
      "           'right': {'left': None, 'point': array([3., 4.]), 'right': None}}}\n"
     ]
    }
   ],
   "source": [
    "import pprint\n",
    "pp = pprint.PrettyPrinter()\n",
    "pp.pprint(kd_tree)"
   ]
  },
  {
   "cell_type": "code",
   "execution_count": 63,
   "metadata": {},
   "outputs": [],
   "source": [
    "\n",
    "def distance(x1: np.ndarray, x2: np.ndarray):\n",
    "    return np.linalg.norm((x1-x2)**2)"
   ]
  },
  {
   "cell_type": "code",
   "execution_count": 64,
   "metadata": {},
   "outputs": [],
   "source": [
    "\n",
    "def closer_distance(pivot, p1, p2):\n",
    "    if p1 is None:\n",
    "        return p2\n",
    "    if p2 is None:\n",
    "        return p1\n",
    "    \n",
    "    d1 = distance(pivot, p1)\n",
    "    d2 = distance(pivot, p2)\n",
    "    \n",
    "    if d1 <d2:\n",
    "        return p1\n",
    "    else: \n",
    "        return p2\n",
    "    \n",
    "    \n",
    "def kdtree_closest_point(root, point, depth=0):\n",
    "    if root is None:\n",
    "        return None\n",
    "    \n",
    "    axis = depth%k\n",
    "\n",
    "    next_branch     = None\n",
    "    opposite_branch = None\n",
    "    \n",
    "    #import pdb;pdb.set_trace()\n",
    "    #print(axis, type(axis), type(root))\n",
    "    #print( point[axis],root[\"point\"])\n",
    "    \n",
    "    if point[axis] < root[\"point\"][axis]:\n",
    "        next_branch = root[\"left\"]\n",
    "        oposite_branch = root[\"right\"]\n",
    "    else:\n",
    "        next_branch = root[\"right\"]\n",
    "        opposite_branch = root[\"left\"]\n",
    "        \n",
    "    best = closer_distance(point,\n",
    "                           kdtree_closest_point(next_branch,\n",
    "                                                point, \n",
    "                                                depth+1),\n",
    "                           root[\"point\"])\n",
    "    \n",
    "    if  distance(point, best) > abs(point[axis] - root[\"point\"][axis]):\n",
    "    #if  distance(point, best) > distance(point, root[\"point\"]):\n",
    "        best = closer_distance(point,\n",
    "                               kdtree_closest_point(next_branch,\n",
    "                                                point, \n",
    "                                                depth+1),\n",
    "                               best)\n",
    "       \n",
    "    return best\n",
    "    "
   ]
  },
  {
   "cell_type": "code",
   "execution_count": 65,
   "metadata": {
    "scrolled": true
   },
   "outputs": [
    {
     "data": {
      "text/plain": [
       "array([1, 3])"
      ]
     },
     "execution_count": 65,
     "metadata": {},
     "output_type": "execute_result"
    }
   ],
   "source": [
    "q = query\n",
    "q"
   ]
  },
  {
   "cell_type": "code",
   "execution_count": 66,
   "metadata": {},
   "outputs": [
    {
     "data": {
      "text/plain": [
       "array([1., 1.])"
      ]
     },
     "execution_count": 66,
     "metadata": {},
     "output_type": "execute_result"
    }
   ],
   "source": [
    "kdtree_closest_point(kd_tree, q)"
   ]
  },
  {
   "cell_type": "code",
   "execution_count": null,
   "metadata": {},
   "outputs": [],
   "source": []
  },
  {
   "cell_type": "code",
   "execution_count": 67,
   "metadata": {},
   "outputs": [
    {
     "name": "stdout",
     "output_type": "stream",
     "text": [
      "Query: [1 3]\n",
      "Closest to query: [0. 3.]\n"
     ]
    },
    {
     "data": {
      "text/plain": [
       "<matplotlib.collections.PathCollection at 0x12294b550>"
      ]
     },
     "execution_count": 67,
     "metadata": {},
     "output_type": "execute_result"
    },
    {
     "data": {
      "image/png": "[encoded data removed]",
      "text/plain": [
       "<Figure size 432x288 with 1 Axes>"
      ]
     },
     "metadata": {
      "needs_background": "light"
     },
     "output_type": "display_data"
    }
   ],
   "source": [
    "closest_to_query, _ = closest_point(X, query, dist)\n",
    "print(\"Query: {}\\nClosest to query: {}\".format(query,closest_to_query))\n",
    "plt.scatter(x_components, y_components, color=\"black\")\n",
    "plt.scatter(query[0], query[1], color=\"red\")\n",
    "plt.scatter(closest_to_query[0], closest_to_query[1], color=\"blue\", linewidths=1, marker=\"o\")"
   ]
  },
  {
   "cell_type": "code",
   "execution_count": null,
   "metadata": {},
   "outputs": [],
   "source": []
  },
  {
   "cell_type": "code",
   "execution_count": null,
   "metadata": {},
   "outputs": [],
   "source": []
  },
  {
   "cell_type": "code",
   "execution_count": null,
   "metadata": {},
   "outputs": [],
   "source": []
  },
  {
   "cell_type": "markdown",
   "metadata": {},
   "source": [
    "### kdtree in sklearn"
   ]
  },
  {
   "cell_type": "code",
   "execution_count": 68,
   "metadata": {},
   "outputs": [],
   "source": [
    "np.random.seed(1234)\n",
    "X = np.random.rand(1000000,10).astype(np.float32)\n",
    "x = np.random.rand(1,10).astype(np.float32)"
   ]
  },
  {
   "cell_type": "code",
   "execution_count": 69,
   "metadata": {},
   "outputs": [
    {
     "name": "stdout",
     "output_type": "stream",
     "text": [
      "CPU times: user 48.7 ms, sys: 18 ms, total: 66.6 ms\n",
      "Wall time: 65 ms\n"
     ]
    }
   ],
   "source": [
    "%time distances =  np.mean((X-x)**2,1)"
   ]
  },
  {
   "cell_type": "code",
   "execution_count": 70,
   "metadata": {},
   "outputs": [
    {
     "name": "stdout",
     "output_type": "stream",
     "text": [
      "CPU times: user 45.3 ms, sys: 7.11 ms, total: 52.5 ms\n",
      "Wall time: 50.6 ms\n",
      "\n",
      "closest row from x is 888194\n"
     ]
    }
   ],
   "source": [
    "%time closest = np.argmin(np.mean((X-x)**2,1))\n",
    "print(\"\\nclosest row from x is {}\".format(closest))"
   ]
  },
  {
   "cell_type": "code",
   "execution_count": 71,
   "metadata": {},
   "outputs": [],
   "source": [
    "import sklearn\n",
    "from sklearn import *"
   ]
  },
  {
   "cell_type": "code",
   "execution_count": 72,
   "metadata": {},
   "outputs": [
    {
     "name": "stdout",
     "output_type": "stream",
     "text": [
      "CPU times: user 45.9 ms, sys: 20.9 ms, total: 66.8 ms\n",
      "Wall time: 67.5 ms\n"
     ]
    }
   ],
   "source": [
    "%time tree = sklearn.neighbors.KDTree(X, leaf_size=1_000_000)"
   ]
  },
  {
   "cell_type": "code",
   "execution_count": 73,
   "metadata": {},
   "outputs": [
    {
     "name": "stdout",
     "output_type": "stream",
     "text": [
      "CPU times: user 14.5 ms, sys: 1.39 ms, total: 15.9 ms\n",
      "Wall time: 14.8 ms\n"
     ]
    }
   ],
   "source": [
    "%time distance_to_closest, closest_kdtree = tree.query(x,k=1)"
   ]
  },
  {
   "cell_type": "code",
   "execution_count": 74,
   "metadata": {},
   "outputs": [
    {
     "name": "stdout",
     "output_type": "stream",
     "text": [
      "\n",
      "closest row from x is 888194\n"
     ]
    }
   ],
   "source": [
    "print(\"\\nclosest row from x is {}\".format(closest_kdtree[0][0]))"
   ]
  },
  {
   "cell_type": "code",
   "execution_count": null,
   "metadata": {
    "collapsed": true
   },
   "outputs": [],
   "source": []
  },
  {
   "cell_type": "code",
   "execution_count": null,
   "metadata": {
    "collapsed": true
   },
   "outputs": [],
   "source": []
  },
  {
   "cell_type": "code",
   "execution_count": null,
   "metadata": {
    "collapsed": true
   },
   "outputs": [],
   "source": []
  },
  {
   "cell_type": "code",
   "execution_count": null,
   "metadata": {
    "collapsed": true
   },
   "outputs": [],
   "source": []
  },
  {
   "cell_type": "code",
   "execution_count": null,
   "metadata": {
    "collapsed": true
   },
   "outputs": [],
   "source": []
  },
  {
   "cell_type": "code",
   "execution_count": null,
   "metadata": {
    "collapsed": true
   },
   "outputs": [],
   "source": []
  },
  {
   "cell_type": "code",
   "execution_count": null,
   "metadata": {
    "collapsed": true
   },
   "outputs": [],
   "source": []
  },
  {
   "cell_type": "code",
   "execution_count": null,
   "metadata": {
    "collapsed": true
   },
   "outputs": [],
   "source": []
  }
 ],
 "metadata": {
  "kernelspec": {
   "display_name": "Python [py37]",
   "language": "python",
   "name": "Python [py37]"
  },
  "language_info": {
   "codemirror_mode": {
    "name": "ipython",
    "version": 3
   },
   "file_extension": ".py",
   "mimetype": "text/x-python",
   "name": "python",
   "nbconvert_exporter": "python",
   "pygments_lexer": "ipython3",
   "version": "3.7.4"
  }
 },
 "nbformat": 4,
 "nbformat_minor": 2
}
