{
 "cells": [
  {
   "cell_type": "markdown",
   "metadata": {},
   "source": [
    "## Com llegir dades desde arxiu\n",
    "\n",
    "Els arxius separats per comes (i salts de linea) es poden llegir amb la funció `readcsv`"
   ]
  },
  {
   "cell_type": "markdown",
   "metadata": {},
   "source": [
    "\n",
    "#### `edge_list` com Array de Arrays"
   ]
  },
  {
   "cell_type": "code",
   "execution_count": 1,
   "metadata": {
    "scrolled": true
   },
   "outputs": [
    {
     "data": {
      "text/plain": [
       "\"graph0.in\""
      ]
     },
     "execution_count": 1,
     "metadata": {},
     "output_type": "execute_result"
    }
   ],
   "source": [
    "file_name = \"graph0.in\""
   ]
  },
  {
   "cell_type": "code",
   "execution_count": 2,
   "metadata": {
    "collapsed": true
   },
   "outputs": [],
   "source": [
    "array_of_strings = readlines(file_name)\n",
    "n_nodes, n_edges = split(array_of_strings[1], \" \")\n",
    "n_nodes = parse(Int64, n_nodes)\n",
    "n_edges = parse(Int64, n_edges)\n",
    "\n",
    "edge_list = Array{Array{Int64},1}()\n",
    "\n",
    "for line in array_of_strings[2:end]\n",
    "    push!(edge_list, parse.(Int64, split(line,\" \")))\n",
    "end"
   ]
  },
  {
   "cell_type": "code",
   "execution_count": 3,
   "metadata": {},
   "outputs": [
    {
     "data": {
      "text/plain": [
       "4-element Array{Array{Int64,N} where N,1}:\n",
       " [0, 1]\n",
       " [1, 2]\n",
       " [0, 3]\n",
       " [3, 1]"
      ]
     },
     "execution_count": 3,
     "metadata": {},
     "output_type": "execute_result"
    }
   ],
   "source": [
    "edge_list"
   ]
  },
  {
   "cell_type": "markdown",
   "metadata": {},
   "source": [
    "#### `edge_list` com a matriu de files o columnes\n",
    "\n",
    "Podem escriure edge_list com a matriu "
   ]
  },
  {
   "cell_type": "code",
   "execution_count": 4,
   "metadata": {
    "collapsed": true
   },
   "outputs": [],
   "source": [
    "array_of_strings = readlines(file_name)\n",
    "n_nodes, n_edges = split(array_of_strings[1], \" \")\n",
    "n_nodes = parse(Int64, n_nodes)\n",
    "n_edges = parse(Int64, n_edges)\n",
    "\n",
    "edge_list = zeros(Int64, 2, n_edges)\n",
    "\n",
    "for j in 1:n_edges\n",
    "    edge_list[:,j] = parse.(Int64, split(array_of_strings[j+1],\" \"))\n",
    "end"
   ]
  },
  {
   "cell_type": "code",
   "execution_count": 5,
   "metadata": {},
   "outputs": [
    {
     "data": {
      "text/plain": [
       "2×4 Array{Int64,2}:\n",
       " 0  1  0  3\n",
       " 1  2  3  1"
      ]
     },
     "execution_count": 5,
     "metadata": {},
     "output_type": "execute_result"
    }
   ],
   "source": [
    "edge_list"
   ]
  },
  {
   "cell_type": "code",
   "execution_count": 6,
   "metadata": {
    "collapsed": true
   },
   "outputs": [],
   "source": [
    "array_of_strings = readlines(file_name)\n",
    "n_nodes, n_edges = split(array_of_strings[1], \" \")\n",
    "n_nodes = parse(Int64, n_nodes)\n",
    "n_edges = parse(Int64, n_edges)\n",
    "\n",
    "edge_list = zeros(Int64, n_edges,2)\n",
    "\n",
    "for j in 1:n_edges\n",
    "    edge_list[j, :] = parse.(Int64, split(array_of_strings[j+1],\" \"))\n",
    "end"
   ]
  },
  {
   "cell_type": "code",
   "execution_count": 7,
   "metadata": {},
   "outputs": [
    {
     "data": {
      "text/plain": [
       "4×2 Array{Int64,2}:\n",
       " 0  1\n",
       " 1  2\n",
       " 0  3\n",
       " 3  1"
      ]
     },
     "execution_count": 7,
     "metadata": {},
     "output_type": "execute_result"
    }
   ],
   "source": [
    "edge_list"
   ]
  },
  {
   "cell_type": "markdown",
   "metadata": {},
   "source": [
    "# Definim un tipo Graph"
   ]
  },
  {
   "cell_type": "code",
   "execution_count": 14,
   "metadata": {},
   "outputs": [],
   "source": [
    "using LightGraphs"
   ]
  },
  {
   "cell_type": "code",
   "execution_count": 308,
   "metadata": {
    "collapsed": true,
    "scrolled": false
   },
   "outputs": [],
   "source": [
    "#immutable GraphAdjM(n_nodes, AdjMatrix)\n",
    "#   n_nodes\n",
    "#end"
   ]
  },
  {
   "cell_type": "code",
   "execution_count": null,
   "metadata": {
    "collapsed": true
   },
   "outputs": [],
   "source": []
  },
  {
   "cell_type": "code",
   "execution_count": null,
   "metadata": {
    "collapsed": true
   },
   "outputs": [],
   "source": []
  },
  {
   "cell_type": "code",
   "execution_count": null,
   "metadata": {
    "collapsed": true
   },
   "outputs": [],
   "source": []
  },
  {
   "cell_type": "markdown",
   "metadata": {},
   "source": [
    "#### TODO"
   ]
  },
  {
   "cell_type": "markdown",
   "metadata": {},
   "source": [
    "Observem que la funció retorna un `Array` que hem de parsejar.\n",
    "\n",
    "\n",
    "La funció `graph_read_edge_list` llegeix un graph de l'arxiu `file_name` i retorna un graph_edge_list.\n",
    "\n",
    "\n",
    "\n",
    "\n",
    "La funció `graphM_read` llegeix un graph de l-arxiu `file_name` i retorna la seva matriu d'adjacencia.\n",
    "\n"
   ]
  },
  {
   "cell_type": "code",
   "execution_count": null,
   "metadata": {
    "collapsed": true
   },
   "outputs": [],
   "source": []
  },
  {
   "cell_type": "code",
   "execution_count": null,
   "metadata": {
    "collapsed": true
   },
   "outputs": [],
   "source": []
  },
  {
   "cell_type": "code",
   "execution_count": null,
   "metadata": {
    "collapsed": true
   },
   "outputs": [],
   "source": []
  },
  {
   "cell_type": "code",
   "execution_count": null,
   "metadata": {
    "collapsed": true
   },
   "outputs": [],
   "source": []
  },
  {
   "cell_type": "code",
   "execution_count": null,
   "metadata": {
    "collapsed": true
   },
   "outputs": [],
   "source": []
  }
 ],
 "metadata": {
  "kernelspec": {
   "display_name": "Julia 0.6.0",
   "language": "julia",
   "name": "julia-0.6"
  },
  "language_info": {
   "file_extension": ".jl",
   "mimetype": "application/julia",
   "name": "julia",
   "version": "0.6.0"
  }
 },
 "nbformat": 4,
 "nbformat_minor": 1
}
